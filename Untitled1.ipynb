{
 "cells": [
  {
   "cell_type": "code",
   "execution_count": 1,
   "metadata": {},
   "outputs": [],
   "source": [
    "import numpy as np"
   ]
  },
  {
   "cell_type": "code",
   "execution_count": 17,
   "metadata": {},
   "outputs": [],
   "source": [
    "costs = np.array([\n",
    "    1000, 500, 800, 1500, 900, 650\n",
    "])\n",
    "\n",
    "time = np.array([\n",
    "    0.1, 0.05, 0, 0.15, 0.09, 0.07\n",
    "])"
   ]
  },
  {
   "cell_type": "code",
   "execution_count": 73,
   "metadata": {},
   "outputs": [],
   "source": [
    "def A(v):\n",
    "    v[2] = True\n",
    "\n",
    "def B(v):\n",
    "    if not np.all(v):\n",
    "        t = np.where(costs == np.min(costs[~v]))[0]\n",
    "        if len(t):\n",
    "            v[t[0]] = True\n",
    "\n",
    "def C(v):\n",
    "    if not np.all(v):\n",
    "        p = np.random.choice(np.arange(0, len(v))[v])\n",
    "        v[p] = 1\n",
    "    \n",
    "def D(v):\n",
    "    if not np.all(v):\n",
    "        t = np.where(costs == np.min((costs * time)[~v]))[0]\n",
    "        if len(t):\n",
    "            v[t[0]] = True\n",
    "\n",
    "def E(v):\n",
    "    if not np.all(v):\n",
    "        p = np.where(time == np.max(time[~v]))\n",
    "        if len(p):\n",
    "            v[p[0]] = 1\n",
    "\n",
    "def F(v):\n",
    "    v[costs.argmin()] = 1\n",
    "\n",
    "def G(v):\n",
    "    if len(v):\n",
    "        v[np.random.choice(len(v))] = 1\n",
    "\n",
    "fs = {'A': A, 'B': B, 'C': C, 'D': D, 'E': E, 'F': F, 'G': G}"
   ]
  },
  {
   "cell_type": "code",
   "execution_count": 37,
   "metadata": {},
   "outputs": [
    {
     "data": {
      "text/plain": [
       "array([['D', 'D', 'G', 'A', 'G'],\n",
       "       ['B', 'B', 'D', 'A', 'D'],\n",
       "       ['A', 'E', 'E', 'B', 'F']], dtype='<U1')"
      ]
     },
     "execution_count": 37,
     "metadata": {},
     "output_type": "execute_result"
    }
   ],
   "source": [
    "np.random.choice(list(fs.keys()), (3, 5))"
   ]
  },
  {
   "cell_type": "code",
   "execution_count": 60,
   "metadata": {},
   "outputs": [
    {
     "name": "stdout",
     "output_type": "stream",
     "text": [
      "Koszt:  3450\n",
      "Czas:  0.27\n",
      "011101\n",
      "Koszt:  4350\n",
      "Czas:  0.36000000000000004\n",
      "011111\n",
      "Koszt:  2800\n",
      "Czas:  0.2\n",
      "011100\n"
     ]
    }
   ],
   "source": [
    "t = [\n",
    "    'ABDGDCB',\n",
    "    'AFCGBCBEFG',\n",
    "    'AEBDFD'\n",
    "    'ABCGDEF'\n",
    "]\n",
    "for i in t:\n",
    "    v = np.zeros(6, dtype=bool)\n",
    "    for j in i:\n",
    "        fs[j](v)\n",
    "    print(\"Koszt: \", np.sum(costs[v]))\n",
    "    print(\"Czas: \", np.sum(time[v]))\n",
    "    print(''.join(str(int(p)) for p in v))"
   ]
  },
  {
   "cell_type": "code",
   "execution_count": 70,
   "metadata": {},
   "outputs": [
    {
     "name": "stdout",
     "output_type": "stream",
     "text": [
      "Koszt:  3850\n",
      "Czas:  0.31000000000000005\n",
      "111011\n",
      "Koszt:  3450\n",
      "Czas:  0.27\n",
      "011101\n"
     ]
    }
   ],
   "source": [
    "t = [\n",
    "    'ABDGBGA',\n",
    "    'AGEDFB',\n",
    "]\n",
    "for i in t:\n",
    "    v = np.zeros(6, dtype=bool)\n",
    "    for j in i:\n",
    "        fs[j](v)\n",
    "    print(\"Koszt: \", np.sum(costs[v]))\n",
    "    print(\"Czas: \", np.sum(time[v]))\n",
    "    print(''.join(str(int(p)) for p in v))"
   ]
  },
  {
   "cell_type": "code",
   "execution_count": 75,
   "metadata": {},
   "outputs": [
    {
     "name": "stdout",
     "output_type": "stream",
     "text": [
      "Koszt:  5350\n",
      "Czas:  0.46\n",
      "111111\n",
      "Koszt:  2800\n",
      "Czas:  0.2\n",
      "011100\n",
      "Koszt:  4450\n",
      "Czas:  0.37000000000000005\n",
      "111101\n",
      "Koszt:  4350\n",
      "Czas:  0.36000000000000004\n",
      "011111\n"
     ]
    }
   ],
   "source": [
    "t = [\n",
    "    'AFEGBBDGFD',\n",
    "    'ACCBEF',\n",
    "    'AEBCCBEF',\n",
    "    'AFDGBFDG'\n",
    "]\n",
    "for i in t:\n",
    "    v = np.zeros(6, dtype=bool)\n",
    "    for j in i:\n",
    "        fs[j](v)\n",
    "    print(\"Koszt: \", np.sum(costs[v]))\n",
    "    print(\"Czas: \", np.sum(time[v]))\n",
    "    print(''.join(str(int(p)) for p in v))"
   ]
  },
  {
   "cell_type": "code",
   "execution_count": 2,
   "metadata": {},
   "outputs": [],
   "source": [
    "costs = np.array([*([500] * 4), *([1500] * 2), *([300] * 10), *([750] * 3), 1000, 750, 350, 350, 1000, 700, 700])\n",
    "smart = np.array([*([1] * 4), *([4] * 2), *([1] * 10), *([2] * 3), 3, 3, 3, 3, 4, 2, 2])"
   ]
  },
  {
   "cell_type": "code",
   "execution_count": 43,
   "metadata": {},
   "outputs": [],
   "source": [
    "lastFunc = lambda x: None\n",
    "\n",
    "def A(v):\n",
    "    if not np.all(v):\n",
    "        t = np.where(costs == np.min(costs[~v]))[0]\n",
    "        if len(t):\n",
    "            v[t[0]] = True\n",
    "        lastFunc = A\n",
    "            \n",
    "def B(v):\n",
    "    if not np.all(v):\n",
    "        t = np.where(smart == np.max(smart[~v]))[0]\n",
    "        if len(t):\n",
    "            v[t[0]] = True\n",
    "        lastFunc = B\n",
    "\n",
    "def C(v):\n",
    "    if not np.all(v):\n",
    "        p = costs / smart\n",
    "        t = np.where(p == np.min(p[~v]))[0]\n",
    "        if len(t):\n",
    "            v[t[0]] = True\n",
    "        lastFunc = C\n",
    "\n",
    "def D(v):\n",
    "    if len(v):\n",
    "        v[np.random.choice(len(v))] = 1\n",
    "        lastFunc = D\n",
    "\n",
    "def E(v):\n",
    "    lastFunc(v)\n",
    "    \n",
    "    \n",
    "def F(v):\n",
    "    v[5] = True\n",
    "    lastFunc = F\n",
    "\n",
    "def G(v):\n",
    "    if np.sum(v[16:19]) < 2:\n",
    "        pos = [16, 17, 18]\n",
    "        p = np.argwhere(v[16:19] == True)\n",
    "        if len(p):\n",
    "            pos.pop(p[0][0])\n",
    "            v[pos[0]] = True\n",
    "        else:\n",
    "            v[pos[:2]] = True\n",
    "    lastFunc = G\n",
    "\n",
    "fs = {\n",
    "    'A': A,\n",
    "    'B': B,\n",
    "    'C': C,\n",
    "    'D': D,\n",
    "    'E': E,\n",
    "    'F': F,\n",
    "    'G': G\n",
    "}"
   ]
  },
  {
   "cell_type": "code",
   "execution_count": 53,
   "metadata": {},
   "outputs": [],
   "source": [
    "a, b, c = np.random.choice(list(fs.keys()), (3, 15))"
   ]
  },
  {
   "cell_type": "code",
   "execution_count": 61,
   "metadata": {},
   "outputs": [],
   "source": [
    "def process(sizes):\n",
    "    out = []\n",
    "    for i in sizes:\n",
    "        x = np.random.choice(list(fs.keys()), i - 1)\n",
    "        while x[0] == 'E':\n",
    "            x = np.roll(x, -1)\n",
    "        out.append('F' + ''.join(x))\n",
    "    return out"
   ]
  },
  {
   "cell_type": "code",
   "execution_count": 47,
   "metadata": {},
   "outputs": [
    {
     "data": {
      "text/plain": [
       "array(['A', 'A', 'E', 'C', 'A', 'A', 'B', 'F', 'E', 'D', 'A', 'F', 'G',\n",
       "       'F', 'D'], dtype='<U1')"
      ]
     },
     "execution_count": 47,
     "metadata": {},
     "output_type": "execute_result"
    }
   ],
   "source": [
    "a"
   ]
  },
  {
   "cell_type": "code",
   "execution_count": 48,
   "metadata": {},
   "outputs": [
    {
     "data": {
      "text/plain": [
       "array(['D', 'A', 'G', 'D', 'F', 'G', 'A', 'F', 'F', 'A', 'G', 'F', 'E',\n",
       "       'C', 'B'], dtype='<U1')"
      ]
     },
     "execution_count": 48,
     "metadata": {},
     "output_type": "execute_result"
    }
   ],
   "source": [
    "b"
   ]
  },
  {
   "cell_type": "code",
   "execution_count": 52,
   "metadata": {},
   "outputs": [],
   "source": [
    "c = np.roll(c, -2)"
   ]
  },
  {
   "cell_type": "code",
   "execution_count": 62,
   "metadata": {},
   "outputs": [
    {
     "name": "stdout",
     "output_type": "stream",
     "text": [
      "FAEAEECABGCDCDC\n",
      "Koszt:  5850\n",
      "Punkty smart:  18\n",
      "00001110000000001100010010\n",
      "FDCCEGBDFGECEFBDAECD\n",
      "Koszt:  6350\n",
      "Punkty smart:  19\n",
      "00011110000000001100010001\n",
      "FGBBGCABEBDFGDDABFCFBFGGG\n",
      "Koszt:  5450\n",
      "Punkty smart:  17\n",
      "00001110000000011100010000\n",
      "FCDFDCDCBACADBGGCGEFACDCDEFDBE\n",
      "Koszt:  8350\n",
      "Punkty smart:  28\n",
      "00101111100000001101111000\n"
     ]
    }
   ],
   "source": [
    "for i in process([15, 20, 25, 30]):\n",
    "    v = np.zeros(26, dtype=bool)\n",
    "    for j in i:\n",
    "        fs[j](v)\n",
    "    print(i)\n",
    "    print(\"Koszt: \", np.sum(costs[v]))\n",
    "    print(\"Punkty smart: \", np.sum(smart[v]))\n",
    "    print(''.join(str(int(p)) for p in v))"
   ]
  },
  {
   "cell_type": "code",
   "execution_count": 63,
   "metadata": {},
   "outputs": [
    {
     "name": "stdout",
     "output_type": "stream",
     "text": [
      "FAEACAEBGDDCECC\n",
      "Koszt:  5850\n",
      "Punkty smart:  18\n",
      "00001110000000001100010001\n",
      "FDCCFCDAEGDGEEECDBDB\n",
      "Koszt:  7550\n",
      "Punkty smart:  26\n",
      "00001110000100001101111000\n",
      "FGCEBFBBGABEBGABDFBGDDAFC\n",
      "Koszt:  6200\n",
      "Punkty smart:  19\n",
      "00001110000000101110010000\n",
      "FCDFDDCCBACADBEBGCGEGFAECCDFDD\n",
      "Koszt:  6950\n",
      "Punkty smart:  21\n",
      "10001111000000001011010000\n"
     ]
    }
   ],
   "source": [
    "t = [\n",
    "    'FAEACAEBGDDCECC',\n",
    "    'FDCCFCDAEGDGEEECDBDB',\n",
    "    'FGCEBFBBGABEBGABDFBGDDAFC',\n",
    "    'FCDFDDCCBACADBEBGCGEGFAECCDFDD'\n",
    "]\n",
    "for i in t:\n",
    "    v = np.zeros(26, dtype=bool)\n",
    "    for j in i:\n",
    "        fs[j](v)\n",
    "    print(i)\n",
    "    print(\"Koszt: \", np.sum(costs[v]))\n",
    "    print(\"Punkty smart: \", np.sum(smart[v]))\n",
    "    print(''.join(str(int(p)) for p in v))"
   ]
  },
  {
   "cell_type": "code",
   "execution_count": null,
   "metadata": {},
   "outputs": [],
   "source": []
  }
 ],
 "metadata": {
  "kernelspec": {
   "display_name": "Python 3",
   "language": "python",
   "name": "python3"
  },
  "language_info": {
   "codemirror_mode": {
    "name": "ipython",
    "version": 3
   },
   "file_extension": ".py",
   "mimetype": "text/x-python",
   "name": "python",
   "nbconvert_exporter": "python",
   "pygments_lexer": "ipython3",
   "version": "3.8.2"
  }
 },
 "nbformat": 4,
 "nbformat_minor": 4
}
