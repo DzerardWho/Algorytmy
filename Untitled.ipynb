{
 "cells": [
  {
   "cell_type": "code",
   "execution_count": 1,
   "metadata": {},
   "outputs": [],
   "source": [
    "import numpy as np"
   ]
  },
  {
   "cell_type": "code",
   "execution_count": 61,
   "metadata": {},
   "outputs": [],
   "source": [
    "costs = np.array([*([500] * 4), *([1500] * 2), *([300] * 10), *([750] * 3), 1000, 750, 350, 350, 1000, 700, 700])\n",
    "smart = np.array([*([1] * 4), *([4] * 2), *([1] * 10), *([2] * 3), 3, 3, 3, 3, 4, 2, 2])"
   ]
  },
  {
   "cell_type": "code",
   "execution_count": 5,
   "metadata": {},
   "outputs": [],
   "source": [
    "limit = 9000\n",
    "genes = 26"
   ]
  },
  {
   "cell_type": "code",
   "execution_count": 8,
   "metadata": {},
   "outputs": [],
   "source": [
    "pop = np.random.randint(0, 2, (100, 26), dtype=bool)"
   ]
  },
  {
   "cell_type": "code",
   "execution_count": 27,
   "metadata": {},
   "outputs": [],
   "source": [
    "def norm(v):\n",
    "    return v / np.sum(v)"
   ]
  },
  {
   "cell_type": "code",
   "execution_count": 28,
   "metadata": {},
   "outputs": [],
   "source": [
    "prop = norm(np.random.chisquare(2, 26))\n",
    "prop.sort()\n",
    "prop = prop[::-1]"
   ]
  },
  {
   "cell_type": "code",
   "execution_count": 59,
   "metadata": {},
   "outputs": [],
   "source": [
    "def fitFunc(v):\n",
    "    a = np.apply_along_axis(lambda x: (np.sum(costs[x])), 1, v)\n",
    "    b = np.apply_along_axis(lambda x: (np.sum(smart[x])), 1, v)\n",
    "    b[a > limit] = 0\n",
    "#     pos = np.argsort(b)\n",
    "    s = np.argsort(b)\n",
    "    a = a[s][::-1]\n",
    "    b = b[s][::-1]\n",
    "    v = v[s][::-1]\n",
    "    for i in zip(v, a, b):\n",
    "        print(f\"{''.join(str(int(x)) for x in i[0])}: Koszt: {i[1]}, Punkty smart: {i[2]}\")\n",
    "#     b = 1 / b\n",
    "#     print(b)"
   ]
  },
  {
   "cell_type": "code",
   "execution_count": 38,
   "metadata": {},
   "outputs": [],
   "source": [
    "p = np.random.randint(0, 2, (10, 26), dtype=bool)"
   ]
  },
  {
   "cell_type": "code",
   "execution_count": 62,
   "metadata": {},
   "outputs": [
    {
     "name": "stdout",
     "output_type": "stream",
     "text": [
      "10100101110100111001011110: Koszt: 8450, Punkty smart: 29\n",
      "11110101000011010100101110: Koszt: 8250, Punkty smart: 26\n",
      "01100011111001110011011011: Koszt: 7250, Punkty smart: 25\n",
      "00001001000100110011011011: Koszt: 6550, Punkty smart: 23\n",
      "01110001000001101000111110: Koszt: 6300, Punkty smart: 23\n",
      "10110010000111010100010101: Koszt: 5800, Punkty smart: 19\n",
      "00110110010000111010010000: Koszt: 5550, Punkty smart: 17\n",
      "01000001100000110011000011: Koszt: 4850, Punkty smart: 14\n",
      "10111110110011110001100110: Koszt: 10050, Punkty smart: 0\n",
      "01111100001100011111001011: Koszt: 10400, Punkty smart: 0\n"
     ]
    }
   ],
   "source": [
    "fitFunc(p)"
   ]
  },
  {
   "cell_type": "code",
   "execution_count": 54,
   "metadata": {},
   "outputs": [],
   "source": [
    "prop = norm(np.random.chisquare(2, 10))\n",
    "prop.sort()\n",
    "prop = prop[::-1]"
   ]
  },
  {
   "cell_type": "code",
   "execution_count": 55,
   "metadata": {},
   "outputs": [
    {
     "data": {
      "text/plain": [
       "array([0.56889175, 0.16502552, 0.159591  , 0.03478043, 0.0207203 ,\n",
       "       0.01925049, 0.01329902, 0.00856738, 0.00719858, 0.00267552])"
      ]
     },
     "execution_count": 55,
     "metadata": {},
     "output_type": "execute_result"
    }
   ],
   "source": [
    "prop"
   ]
  },
  {
   "cell_type": "code",
   "execution_count": 57,
   "metadata": {},
   "outputs": [
    {
     "data": {
      "text/plain": [
       "array([1, 0, 5, 2, 6])"
      ]
     },
     "execution_count": 57,
     "metadata": {},
     "output_type": "execute_result"
    }
   ],
   "source": [
    "np.random.choice(10, 5, False, prop)"
   ]
  },
  {
   "cell_type": "code",
   "execution_count": 58,
   "metadata": {},
   "outputs": [
    {
     "data": {
      "text/plain": [
       "array([2, 1, 6, 3, 7])"
      ]
     },
     "execution_count": 58,
     "metadata": {},
     "output_type": "execute_result"
    }
   ],
   "source": [
    "Out[57] + 1"
   ]
  },
  {
   "cell_type": "code",
   "execution_count": null,
   "metadata": {},
   "outputs": [],
   "source": [
    "def crossbreed(\n",
    "        parent1: np.ndarray,\n",
    "        parent2: np.ndarray,\n",
    ") -> Tuple[np.ndarray, np.ndarray]:\n",
    "    position = np.random.randint(1, parent1.shape[0] - 1)\n",
    "    \n",
    "    print(f\"{''.join(str(int(x)) for x in )})\n",
    "    \n",
    "    return (\n",
    "        np.array([*parent1[:position], *parent2[position:]]),\n",
    "        np.array([*parent2[:position], *parent1[position:]])\n",
    "    )"
   ]
  }
 ],
 "metadata": {
  "kernelspec": {
   "display_name": "Python 3",
   "language": "python",
   "name": "python3"
  },
  "language_info": {
   "codemirror_mode": {
    "name": "ipython",
    "version": 3
   },
   "file_extension": ".py",
   "mimetype": "text/x-python",
   "name": "python",
   "nbconvert_exporter": "python",
   "pygments_lexer": "ipython3",
   "version": "3.8.2"
  }
 },
 "nbformat": 4,
 "nbformat_minor": 4
}
